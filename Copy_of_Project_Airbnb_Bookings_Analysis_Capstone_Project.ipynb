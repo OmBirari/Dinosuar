{
  "nbformat": 4,
  "nbformat_minor": 0,
  "metadata": {
    "kernelspec": {
      "display_name": "Python 3",
      "language": "python",
      "name": "python3"
    },
    "language_info": {
      "codemirror_mode": {
        "name": "ipython",
        "version": 3
      },
      "file_extension": ".py",
      "mimetype": "text/x-python",
      "name": "python",
      "nbconvert_exporter": "python",
      "pygments_lexer": "ipython3",
      "version": "3.6.6"
    },
    "colab": {
      "name": "Copy of Project Airbnb Bookings Analysis - Capstone Project.ipynb",
      "provenance": [],
      "collapsed_sections": [],
      "include_colab_link": true
    }
  },
  "cells": [
    {
      "cell_type": "markdown",
      "metadata": {
        "id": "view-in-github",
        "colab_type": "text"
      },
      "source": [
        "<a href=\"https://colab.research.google.com/github/OmBirari/Dinosuar/blob/main/Copy_of_Project_Airbnb_Bookings_Analysis_Capstone_Project.ipynb\" target=\"_parent\"><img src=\"https://colab.research.google.com/assets/colab-badge.svg\" alt=\"Open In Colab\"/></a>"
      ]
    },
    {
      "cell_type": "markdown",
      "metadata": {
        "id": "Y06xIdG26kRF"
      },
      "source": [
        "## <b> Since 2008, guests and hosts have used Airbnb to expand on traveling possibilities and present a more unique, personalized way of experiencing the world. Today, Airbnb became one of a kind service that is used and recognized by the whole world. Data analysis on millions of listings provided through Airbnb is a crucial factor for the company. These millions of listings generate a lot of data - data that can be analyzed and used for security, business decisions, understanding of customers' and providers' (hosts) behavior and performance on the platform, guiding marketing initiatives, implementation of innovative additional services and much more. </b>\n",
        "\n",
        "## <b>This dataset has around 49,000 observations in it with 16 columns and it is a mix between categorical and numeric values. </b>\n",
        "\n",
        "## <b> Explore and analyze the data to discover key understandings (not limited to these) such as : \n",
        "* What can we learn about different hosts and areas?\n",
        "* What can we learn from predictions? (ex: locations, prices, reviews, etc)\n",
        "* Which hosts are the busiest and why?\n",
        "* Is there any noticeable difference of traffic among different areas and what could be the reason for it? </b>"
      ]
    },
    {
      "cell_type": "markdown",
      "source": [
        "#Airbnb- A service connecting people who want to rent a place to live and those who are in search to accomodate a place in certain area.\n",
        "###**So what's the model on which Airbnb works...**\n",
        "<b> 1) Airbnb offers people an easy, relatively stress-free way to earn some income from their property.</b>\n",
        "\n",
        "<b> 2) Guests often find Airbnb is cheaper, has more character, and is homier than hotels.</b>\n",
        "\n",
        "<b> 3) Airbnb makes the bulk of its revenue by charging a service fee for each booking.</b>"
      ],
      "metadata": {
        "id": "frViowg5pXSL"
      }
    },
    {
      "cell_type": "markdown",
      "source": [
        "####So basically Airbnb valuation reached over 100 billion USD in Q4 of 2020.. \n",
        "That seems crazy when you look at their Revenue Model, which is:\n",
        "\n",
        "1)Commission from hosts: Everytime someone chooses a host’s property and makes payment, Airbnb takes 10% of the payment amount as commission. This is one of the components of Airbnb fee structure.\n",
        "\n",
        "2)Transaction fee from travelers: When travelers make payments for stays, they are charged a 3% fee for the transaction. This amount adds to the Airbnb revenue."
      ],
      "metadata": {
        "id": "NagRdtIZrZH6"
      }
    },
    {
      "cell_type": "markdown",
      "source": [
        "###So now lets see what the dataset has to offer:"
      ],
      "metadata": {
        "id": "0gRhcHiIuI7a"
      }
    },
    {
      "cell_type": "code",
      "source": [
        "import pandas as pd\n",
        "import matplotlib.pyplot as plt\n",
        "import seaborn as sns\n",
        "import numpy as np\n",
        "from scipy.stats import norm\n",
        "from sklearn.preprocessing import StandardScaler\n",
        "from scipy import stats\n",
        "import warnings"
      ],
      "metadata": {
        "id": "VZzCOVsXvPVi"
      },
      "execution_count": null,
      "outputs": []
    },
    {
      "cell_type": "code",
      "source": [
        "from pandas_profiling import ProfileReport"
      ],
      "metadata": {
        "id": "_vXUA63YpMkm"
      },
      "execution_count": null,
      "outputs": []
    },
    {
      "cell_type": "code",
      "source": [
        "import os"
      ],
      "metadata": {
        "id": "2ecMKI1VD3mR"
      },
      "execution_count": null,
      "outputs": []
    },
    {
      "cell_type": "code",
      "source": [
        "!pip install https://github.com/pandas-profiling/pandas-profiling/archive/master.zip"
      ],
      "metadata": {
        "id": "0W_UdZgIMaWq"
      },
      "execution_count": null,
      "outputs": []
    },
    {
      "cell_type": "code",
      "source": [
        "df = pd.read_csv('/content/Airbnb NYC 2019.csv')"
      ],
      "metadata": {
        "id": "V3ppZGXqA49N"
      },
      "execution_count": null,
      "outputs": []
    },
    {
      "cell_type": "code",
      "source": [
        "print (df)"
      ],
      "metadata": {
        "id": "zKdO2H7VNIjz"
      },
      "execution_count": null,
      "outputs": []
    },
    {
      "cell_type": "code",
      "source": [
        "#Now we generate a report\n",
        "profile = ProfileReport(df)"
      ],
      "metadata": {
        "id": "a18if2yAN07K"
      },
      "execution_count": null,
      "outputs": []
    },
    {
      "cell_type": "code",
      "source": [
        "profile"
      ],
      "metadata": {
        "id": "cziGCZaHN3Rt"
      },
      "execution_count": null,
      "outputs": []
    },
    {
      "cell_type": "code",
      "source": [
        "#saving the report in html file.\n",
        "profile.to_notebook_iframe()\n",
        "profile.to_file(\"Pandas_profiling_Report.html\")"
      ],
      "metadata": {
        "id": "nB4GHW_9oe7u"
      },
      "execution_count": null,
      "outputs": []
    },
    {
      "cell_type": "code",
      "source": [
        "df.info()"
      ],
      "metadata": {
        "id": "H8BXCVLhpeC8"
      },
      "execution_count": null,
      "outputs": []
    },
    {
      "cell_type": "markdown",
      "source": [
        "###So as we can see, there are 48895 rows and 16 columns.\n"
      ],
      "metadata": {
        "id": "547LzCRssU2K"
      }
    },
    {
      "cell_type": "code",
      "source": [
        "df.isnull().sum()"
      ],
      "metadata": {
        "id": "jodEJeqH0uAn"
      },
      "execution_count": null,
      "outputs": []
    },
    {
      "cell_type": "markdown",
      "source": [
        "#####Latitude and longitude which represent a co-ordinate, neighbourhood, neighbourhood_group and room_type fit in categorical type. last_review says about the date, we will have changes in it as required.\n",
        "\n",
        "We can check there are 4 columns containing null values which are name, host_name (looks like listing name and host_name doesn't really matter to us for now) and last_reviews, reviews_per_month. So we will just ```fillna(0)``` to those null values"
      ],
      "metadata": {
        "id": "eEKtZv241Rd9"
      }
    },
    {
      "cell_type": "code",
      "source": [
        "df.fillna(0, inplace=True)"
      ],
      "metadata": {
        "id": "8iMw6jrZ03zA"
      },
      "execution_count": null,
      "outputs": []
    },
    {
      "cell_type": "code",
      "source": [
        "from scipy.stats.stats import describe\n",
        "exclude_col = set(df.columns) - {'latitude', 'longitude', 'host_id', 'id'}\n",
        "df[exclude_col].describe()"
      ],
      "metadata": {
        "id": "Ll3RpKhy4Mve"
      },
      "execution_count": null,
      "outputs": []
    },
    {
      "cell_type": "code",
      "source": [
        "col_list = df[exclude_col].describe().columns.tolist() "
      ],
      "metadata": {
        "id": "cjY36tTP5zWV"
      },
      "execution_count": null,
      "outputs": []
    },
    {
      "cell_type": "markdown",
      "source": [
        "####Now we play a bit with histograms, heat maps and graphs and try to discover key undertsndings. "
      ],
      "metadata": {
        "id": "8cdjeCfu6WpJ"
      }
    },
    {
      "cell_type": "code",
      "source": [
        "plt.figure(figsize=(12, 8))\n",
        "heatmap = sns.heatmap(df[col_list].corr(), linewidths=0.5, linecolor= \"black\", vmin=-1, annot=True, cmap=\"seismic\")\n",
        "plt.show()"
      ],
      "metadata": {
        "id": "ojiajk5h6MHl"
      },
      "execution_count": null,
      "outputs": []
    },
    {
      "cell_type": "markdown",
      "source": [
        "######*no_of_reviews and reviews-per-month do relate more, but the 'price' factor seems less relatable to other columns.\n",
        "###What can we learn from predictions?\n",
        "- Most people prefer staying at cheaper hotels\n",
        "- Costlier properties has significantly less no of reviews, but cheaper properties have large number of reviews\n"
      ],
      "metadata": {
        "id": "mJRF8BKfCwg4"
      }
    },
    {
      "cell_type": "code",
      "source": [
        "fig, axes = plt.subplots(nrows=3, ncols=2, figsize=(24, 10))\n",
        "axes = axes.flatten()\n",
        "for col, ax in zip(col_list, axes):\n",
        "    sns.histplot(x=col, data=df, ax=ax, kde=True, element='poly')\n",
        "    ax.set_title(f'Column {col} skewness : {df[col].skew()}')\n",
        "\n",
        "plt.tight_layout(h_pad=2, w_pad=1.2)"
      ],
      "metadata": {
        "id": "pcoKWDts7ynL"
      },
      "execution_count": null,
      "outputs": []
    },
    {
      "cell_type": "markdown",
      "source": [
        "From these plots of numerical data columns, it can be concluded that all these have a positive skewed distribution including 'price'. Although,  availability distributed uniformly throughout days of a year, so it means we have all sort of listings available uniformly throughout the year."
      ],
      "metadata": {
        "id": "_ZdRadUvDqvP"
      }
    },
    {
      "cell_type": "code",
      "source": [
        "hosts_areas = df.groupby(['host_name','neighbourhood_group'])['calculated_host_listings_count'].max().reset_index()\n",
        "hosts_areas.sort_values(by='calculated_host_listings_count', ascending=False).head(5)"
      ],
      "metadata": {
        "id": "IfETVwNo4nqA"
      },
      "execution_count": null,
      "outputs": []
    },
    {
      "cell_type": "markdown",
      "source": [
        "##What can we learn about different hosts and areas?\n",
        "So, the most number of listings are from Manhattan location by a host named Sonder, Blueground from Brooklyn and Manhattan. Manhattan, Brooklyn seem to have busy airbnb locales."
      ],
      "metadata": {
        "id": "On0VbM0A4SmF"
      }
    },
    {
      "cell_type": "markdown",
      "source": [
        "#Now to see which Hosts are the busiest and why?"
      ],
      "metadata": {
        "id": "iJuHssXf5yGV"
      }
    },
    {
      "cell_type": "code",
      "source": [
        "busiest_hosts = df.groupby(['host_name','host_id','room_type'])['number_of_reviews'].max().reset_index()\n",
        "busiest_hosts = busiest_hosts.sort_values(by='number_of_reviews', ascending=False).head(10)\n",
        "busiest_hosts"
      ],
      "metadata": {
        "id": "d_aoBC0m0gKE"
      },
      "execution_count": null,
      "outputs": []
    },
    {
      "cell_type": "code",
      "source": [
        "#plotting the upper chart.\n",
        "name = busiest_hosts['host_name']\n",
        "reviews = busiest_hosts['number_of_reviews']\n",
        "\n",
        "fig = plt.figure(figsize = (12, 6))\n",
        " \n",
        "# creating the bar plot\n",
        "plt.bar(name, reviews, color ='Green',\n",
        "        width = 0.6)\n",
        " \n",
        "plt.xlabel(\"Name of the Host\")\n",
        "plt.ylabel(\"Number of Reviews\")\n",
        "plt.title(\"Busiest Hosts\")\n",
        "plt.show()"
      ],
      "metadata": {
        "id": "F8Nt2Ci06GTU"
      },
      "execution_count": null,
      "outputs": []
    },
    {
      "cell_type": "markdown",
      "source": [
        "##So our Busiest Hosts are:\n",
        "\n",
        "*Dona*,\n",
        "*Jj*,\n",
        "*Maya*,\n",
        "*Carol*\n",
        "\n",
        "####Beacause these hosts listed room types as Private Rooms or Entire Houses which can be seen preffered my most people in the City."
      ],
      "metadata": {
        "id": "jl5V5HaH7eyL"
      }
    },
    {
      "cell_type": "markdown",
      "source": [
        "## Is there any noticeable difference of traffic among different areas and what could be the reason for it?"
      ],
      "metadata": {
        "id": "kDZCsp308sHk"
      }
    },
    {
      "cell_type": "code",
      "source": [
        "fig, axes = plt.subplots(nrows=2, ncols=2, figsize=(24, 12))\n",
        "ax = axes.flatten()\n",
        "\n",
        "sns.set_theme(style=\"dark\")\n",
        "sns.scatterplot(data=df, x='longitude', y='latitude', hue='neighbourhood_group', ax=ax[0]);\n",
        "ax[0].set_title('Location of neighbourhood groups')\n",
        "sns.scatterplot(data=df[df['price'] < 300], x='longitude', y='latitude', hue='price', size=\"price\", sizes=(20, 60), palette='Dark2_r', ax=ax[1])\n",
        "ax[1].set_title('Variation of Price based on Location ($0 - 300)')\n",
        "sns.scatterplot(data=df, x='longitude', y='latitude', hue='number_of_reviews', size=\"number_of_reviews\", sizes=(20, 150), palette='GnBu_d', hue_norm=(0, 2), ax=ax[2])\n",
        "ax[2].set_title('Variation of number of reviews given based on location')\n",
        "sns.scatterplot(data=df, x='longitude', y='latitude', hue='availability_365', style=\"room_type\", palette='GnBu_d', ax=ax[3])\n",
        "ax[3].set_title('Availability of Rooms')\n",
        "plt.show()"
      ],
      "metadata": {
        "id": "GTbOXYfzBWHF"
      },
      "execution_count": null,
      "outputs": []
    },
    {
      "cell_type": "markdown",
      "source": [
        "Lets interpret the above plots."
      ],
      "metadata": {
        "id": "FqkVHCnP3R0o"
      }
    },
    {
      "cell_type": "markdown",
      "source": [
        "1)The first plot shows us the dataset for airbnb spread throughout New York city.\n",
        "\n",
        "2)In the second plot, we have limited our sight to *300 usd* max, because about 75% of the data lies in range of *175 usd*.\n",
        "\n",
        "3)In the third plot, we can see more number of reviews through the outskirts of the city.\n",
        "\n",
        "4)In the 4th plot, we can follow up a trend where the heart of the city is busiest."
      ],
      "metadata": {
        "id": "0c6uYGkv3Wpv"
      }
    },
    {
      "cell_type": "code",
      "source": [
        "traffic_areas = df.groupby(['neighbourhood_group','room_type'])['minimum_nights'].count().reset_index()\n",
        "traffic_areas = traffic_areas.sort_values(by='minimum_nights', ascending=False)\n",
        "traffic_areas"
      ],
      "metadata": {
        "id": "S7HlG28R8HRk"
      },
      "execution_count": null,
      "outputs": []
    },
    {
      "cell_type": "code",
      "source": [
        "room_type = traffic_areas['room_type']\n",
        "stayed = traffic_areas['minimum_nights']\n",
        "\n",
        "fig = plt.figure(figsize = (12, 6))\n",
        " \n",
        "# creating the bar plot\n",
        "plt.bar(room_type, stayed, color ='Blue',\n",
        "        width = 0.6)\n",
        " \n",
        "plt.xlabel(\"Room Type\")\n",
        "plt.ylabel(\"Minimum number of nights stayed\")\n",
        "plt.title(\"Traffic Areas\")\n",
        "plt.show()"
      ],
      "metadata": {
        "id": "dkFm0lk79xHp"
      },
      "execution_count": null,
      "outputs": []
    },
    {
      "cell_type": "markdown",
      "source": [
        "As we can observe, People prefer cheaper listings of Entire homes or private rooms present in Locales of Manhattan, Brooklyn and Queens."
      ],
      "metadata": {
        "id": "TJbT7c_z-XKW"
      }
    },
    {
      "cell_type": "markdown",
      "source": [
        "###**Now let's see the duration and time of year when the house listings are mostly occupied.**"
      ],
      "metadata": {
        "id": "hfS54R9BAPwH"
      }
    },
    {
      "cell_type": "code",
      "source": [
        "df['last_review'] = pd.to_datetime(df['last_review'], errors='coerce')\n",
        "\n",
        "df['Days'], df['Month'], df['Years'] = (df['last_review'].dt.day, df['last_review'].dt.month, df['last_review'].dt.year)\n",
        "df['last_review'] = pd.to_datetime(df['last_review']).dt.date"
      ],
      "metadata": {
        "id": "s8242PoZAAlZ"
      },
      "execution_count": null,
      "outputs": []
    },
    {
      "cell_type": "code",
      "source": [
        "filtered_df = df[df['Years'] != 2022]"
      ],
      "metadata": {
        "id": "VVPtjp0VAHlB"
      },
      "execution_count": null,
      "outputs": []
    },
    {
      "cell_type": "code",
      "source": [
        "fig, axes = plt.subplots(nrows=1, ncols=2, figsize=(21, 6))\n",
        "ax = axes.flatten()\n",
        "\n",
        "sns.histplot(data=filtered_df, x='Days', hue='room_type', multiple=\"stack\", ax=ax[0])\n",
        "ax[0].set_title('No of Guest in days of the months')\n",
        "sns.histplot(data=filtered_df, x='Month', hue='room_type', multiple=\"stack\", ax=ax[1])\n",
        "ax[0].set_title('No of Guest in months of the years')\n",
        "sns.despine(fig, left=True)"
      ],
      "metadata": {
        "id": "jHrMhM9hAJTs"
      },
      "execution_count": null,
      "outputs": []
    },
    {
      "cell_type": "markdown",
      "source": [
        "So, we've created plot of day, month based on the last_review date, though it is not fully accurate,many guest prefer to not give a rating(me including). We can follow a trend where, first day and last day of the month have most number of guests. Also in the middle of the year, in June Month, there is a surge in guest count."
      ],
      "metadata": {
        "id": "KljyH2NGBACn"
      }
    },
    {
      "cell_type": "markdown",
      "source": [
        "#Conclusions\n",
        "- Most people want private rooms/homes.\n",
        "- Visitors tend to live less time in private rooms compared to Entire Houses/Apratments\n",
        "- Visitors look for cheap places. \n",
        "- It'd be a better if we had avg guest ratings of a property, that would be beneficial in understanding the property more and could also be a factor in deciding price (a low rated property tends to lower their price)\n",
        "- Manhattan and Brooklyn are the two distinguished, expensive & posh areas of New York.\n",
        "- Though location of property has high relation on deciding its price, but a property in popular location doesn't. It will stay occupied in most of the time."
      ],
      "metadata": {
        "id": "1FQWEO3eCPQs"
      }
    }
  ]
}